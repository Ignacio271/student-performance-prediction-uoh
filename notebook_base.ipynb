{
 "cells": [
  {
   "cell_type": "markdown",
   "id": "dea138cc",
   "metadata": {},
   "source": [
    "# Predicción del Rendimiento Estudiantil\n",
    "Este proyecto utiliza un modelo de clasificación para predecir si un estudiante aprobará o no en base a características personales, familiares y académicas."
   ]
  },
  {
   "cell_type": "code",
   "execution_count": null,
   "id": "31cb3d7f",
   "metadata": {},
   "outputs": [],
   "source": [
    "import pandas as pd\n",
    "import numpy as np\n",
    "import matplotlib.pyplot as plt\n",
    "import seaborn as sns\n",
    "\n",
    "from sklearn.model_selection import train_test_split\n",
    "from sklearn.preprocessing import LabelEncoder, StandardScaler\n",
    "from sklearn.ensemble import RandomForestClassifier\n",
    "from sklearn.metrics import classification_report, confusion_matrix, accuracy_score"
   ]
  },
  {
   "cell_type": "code",
   "execution_count": null,
   "id": "9ddef1bc",
   "metadata": {},
   "outputs": [],
   "source": [
    "# Cargar el dataset\n",
    "df = pd.read_csv(\"mat2.csv\")\n",
    "df.head()"
   ]
  },
  {
   "cell_type": "code",
   "execution_count": null,
   "id": "7276b7a0",
   "metadata": {},
   "outputs": [],
   "source": [
    "# Ver información general\n",
    "print(df.info())\n",
    "\n",
    "# Estadísticas\n",
    "df.describe()\n",
    "\n",
    "# Visualización de correlaciones\n",
    "plt.figure(figsize=(12, 8))\n",
    "sns.heatmap(df.corr(numeric_only=True), annot=True, cmap='coolwarm')\n",
    "plt.title(\"Correlación entre variables numéricas\")\n",
    "plt.show()"
   ]
  },
  {
   "cell_type": "code",
   "execution_count": null,
   "id": "81589476",
   "metadata": {},
   "outputs": [],
   "source": [
    "# Eliminar columnas irrelevantes\n",
    "df.drop(columns=[\"Unnamed: 0\"], inplace=True)\n",
    "\n",
    "# Convertir G3 a variable binaria: aprobado (G3 >= 10)\n",
    "df[\"pass\"] = (df[\"G3\"] >= 10).astype(int)\n",
    "\n",
    "# Codificar variables categóricas\n",
    "cat_cols = df.select_dtypes(include='object').columns\n",
    "le = LabelEncoder()\n",
    "for col in cat_cols:\n",
    "    df[col] = le.fit_transform(df[col])\n",
    "\n",
    "# Separar features y target\n",
    "X = df.drop(columns=[\"G3\", \"pass\"])\n",
    "y = df[\"pass\"]\n",
    "\n",
    "# Normalizar datos\n",
    "scaler = StandardScaler()\n",
    "X_scaled = scaler.fit_transform(X)\n",
    "\n",
    "# Split\n",
    "X_train, X_test, y_train, y_test = train_test_split(X_scaled, y, test_size=0.2, random_state=42)"
   ]
  },
  {
   "cell_type": "code",
   "execution_count": null,
   "id": "b6747e0a",
   "metadata": {},
   "outputs": [],
   "source": [
    "# Entrenar modelo\n",
    "model = RandomForestClassifier(random_state=42)\n",
    "model.fit(X_train, y_train)\n",
    "\n",
    "# Predicciones\n",
    "y_pred = model.predict(X_test)\n",
    "\n",
    "# Resultados\n",
    "print(\"Accuracy:\", accuracy_score(y_test, y_pred))\n",
    "print(confusion_matrix(y_test, y_pred))\n",
    "print(classification_report(y_test, y_pred))"
   ]
  },
  {
   "cell_type": "code",
   "execution_count": null,
   "id": "b4970cbe",
   "metadata": {},
   "outputs": [],
   "source": [
    "# Importancia de variables\n",
    "importances = model.feature_importances_\n",
    "feat_names = df.drop(columns=[\"G3\", \"pass\"]).columns\n",
    "\n",
    "# Gráfico\n",
    "plt.figure(figsize=(10, 6))\n",
    "sns.barplot(x=importances, y=feat_names)\n",
    "plt.title(\"Importancia de las características\")\n",
    "plt.show()"
   ]
  }
 ],
 "metadata": {},
 "nbformat": 4,
 "nbformat_minor": 5
}
